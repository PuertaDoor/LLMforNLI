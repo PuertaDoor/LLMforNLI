{
 "cells": [
  {
   "cell_type": "code",
   "execution_count": 47,
   "id": "6ae96018-2e35-482c-b45b-34c86e6c959f",
   "metadata": {},
   "outputs": [],
   "source": [
    "import torch\n",
    "from transformers import AutoTokenizer, AutoModelForSequenceClassification, BitsAndBytesConfig, MT5ForConditionalGeneration, MT5Tokenizer\n",
    "import psutil\n",
    "from transformers import TrainerCallback\n",
    "import time\n",
    "\n",
    "bnb_config = BitsAndBytesConfig(\n",
    "    load_in_4bit=True,\n",
    "    bnb_4bit_use_double_quant=True,\n",
    "    bnb_4bit_quant_type=\"nf4\",\n",
    "    bnb_4bit_compute_dtype=torch.bfloat16\n",
    ")"
   ]
  },
  {
   "cell_type": "code",
   "execution_count": 48,
   "id": "2e904de8-36d2-47c0-a2c3-b66b57722c37",
   "metadata": {},
   "outputs": [
    {
     "data": {
      "application/vnd.jupyter.widget-view+json": {
       "model_id": "0ee4b630dd8c4e04adf0cbc48d197da7",
       "version_major": 2,
       "version_minor": 0
      },
      "text/plain": [
       "Loading checkpoint shards:   0%|          | 0/4 [00:00<?, ?it/s]"
      ]
     },
     "metadata": {},
     "output_type": "display_data"
    },
    {
     "name": "stderr",
     "output_type": "stream",
     "text": [
      "Some weights of LlamaForSequenceClassification were not initialized from the model checkpoint at lightblue/suzume-llama-3-8B-multilingual and are newly initialized: ['score.weight']\n",
      "You should probably TRAIN this model on a down-stream task to be able to use it for predictions and inference.\n",
      "huggingface/tokenizers: The current process just got forked, after parallelism has already been used. Disabling parallelism to avoid deadlocks...\n",
      "To disable this warning, you can either:\n",
      "\t- Avoid using `tokenizers` before the fork if possible\n",
      "\t- Explicitly set the environment variable TOKENIZERS_PARALLELISM=(true | false)\n",
      "Special tokens have been added in the vocabulary, make sure the associated word embeddings are fine-tuned or trained.\n"
     ]
    }
   ],
   "source": [
    "model_id = \"lightblue/suzume-llama-3-8B-multilingual\"\n",
    "#model_id = \"meta-llama/Meta-Llama-3-8B\"\n",
    "\n",
    "model = AutoModelForSequenceClassification.from_pretrained(model_id,\n",
    "                                                           quantization_config=bnb_config,\n",
    "                                                           num_labels=3,\n",
    "                                                           device_map=\"auto\",\n",
    "                                                           #device_map=\"auto\"\n",
    "                                                          )\n",
    "model.config.pad_token_id = model.config.eos_token_id\n",
    "\n",
    "tokenizer = AutoTokenizer.from_pretrained(model_id, add_eos_token=True, load_in_4bit=True)\n",
    "\n",
    "tokenizer.pad_token = tokenizer.eos_token\n",
    "tokenizer.pad_token_id = tokenizer.eos_token_id"
   ]
  },
  {
   "cell_type": "code",
   "execution_count": 49,
   "id": "da3f7a07-ac22-4788-b112-3469b02dedf1",
   "metadata": {},
   "outputs": [],
   "source": [
    "from datasets import load_dataset, Dataset\n",
    "\n",
    "# data = load_dataset(\"ankitkupadhyay/XNLI\")[\"train\"]\n",
    "data = load_dataset(\"Gameselo/monolingual-wideNLI\")\n",
    "\n",
    "data = data.shuffle(seed=1234)  # Shuffle dataset here\n",
    "data = data.rename_column(\"label\", \"labels\")"
   ]
  },
  {
   "cell_type": "code",
   "execution_count": 6,
   "id": "2f971b3a-8df7-49c9-8388-608fb0a2b252",
   "metadata": {},
   "outputs": [
    {
     "name": "stderr",
     "output_type": "stream",
     "text": [
      "You are using the default legacy behaviour of the <class 'transformers.models.t5.tokenization_t5.T5Tokenizer'>. This is expected, and simply means that the `legacy` (previous) behavior will be used so nothing changes for you. If you want to use the new behaviour, set `legacy=False`. This should only be set if you understand what it means, and thoroughly read the reason why this was added as explained in https://github.com/huggingface/transformers/pull/24565\n"
     ]
    }
   ],
   "source": [
    "# TRADUCTION SI XNLI\n",
    "\n",
    "# Charger le modèle MT5 et le tokenizer\n",
    "model_name = \"google/mt5-base\"\n",
    "tokenizer_trad = MT5Tokenizer.from_pretrained(model_name)\n",
    "model_trad = MT5ForConditionalGeneration.from_pretrained(model_name)\n",
    "\n",
    "# Fonction pour traduire une phrase en anglais\n",
    "def translate_to_english(sentence):\n",
    "    # Préparer l'entrée pour le modèle\n",
    "    input_text = f\"translate to English: {sentence}\"\n",
    "    inputs = tokenizer_trad.encode(input_text, return_tensors=\"pt\")\n",
    "\n",
    "    # Générer la traduction\n",
    "    with torch.inference_mode():\n",
    "        outputs = model_trad.generate(inputs)\n",
    "        \n",
    "    translated_sentence = tokenizer_trad.decode(outputs[0], skip_special_tokens=True)\n",
    "    \n",
    "    return translated_sentence"
   ]
  },
  {
   "cell_type": "code",
   "execution_count": 7,
   "id": "96d8928c-ba92-432b-b178-d6fb948f32b0",
   "metadata": {},
   "outputs": [],
   "source": [
    "# IF USING XNLI\n",
    "\n",
    "data = data.train_test_split(test_size=0.1)\n",
    "train_data = data[\"train\"]\n",
    "test_data = data[\"test\"]"
   ]
  },
  {
   "cell_type": "code",
   "execution_count": 50,
   "id": "755b60b2-44d5-4493-b1f9-f32a6c51d692",
   "metadata": {},
   "outputs": [],
   "source": [
    "# IF USING MONOLINGUAL-WIDENLI\n",
    "\n",
    "train_data = data[\"train\"]\n",
    "test_data = data[\"dev\"]"
   ]
  },
  {
   "cell_type": "code",
   "execution_count": 51,
   "id": "5a92dc2a-d1fd-41ee-9234-a2a3c6b820dd",
   "metadata": {},
   "outputs": [],
   "source": [
    "# Fonction pour sampler 8 exemples par classe\n",
    "def sample_per_class(dataset, num_samples=1024):\n",
    "    # Obtenir un index unique pour chaque classe\n",
    "    class_indices = {label: [] for label in set(dataset['labels'])}\n",
    "\n",
    "    # Accumuler les indices pour chaque classe\n",
    "    for index, label in enumerate(dataset['labels']):\n",
    "        class_indices[label].append(index)\n",
    "\n",
    "    # Sélectionner aléatoirement num_samples indices pour chaque classe\n",
    "    import random\n",
    "    sampled_indices = [index for label, indices in class_indices.items()\n",
    "                       for index in random.sample(indices, num_samples)]\n",
    "\n",
    "    # Créer un nouveau dataset à partir des indices échantillonnés\n",
    "    sampled_dataset = dataset.select(sampled_indices)\n",
    "    return sampled_dataset\n",
    "\n",
    "# Appliquer la fonction\n",
    "train_data = sample_per_class(train_data)"
   ]
  },
  {
   "cell_type": "code",
   "execution_count": 44,
   "id": "33c1aa0a-6c01-4198-a07e-80234baf613f",
   "metadata": {},
   "outputs": [
    {
     "ename": "NameError",
     "evalue": "name 'translate_to_english' is not defined",
     "output_type": "error",
     "traceback": [
      "\u001b[0;31m---------------------------------------------------------------------------\u001b[0m",
      "\u001b[0;31mNameError\u001b[0m                                 Traceback (most recent call last)",
      "Cell \u001b[0;32mIn[44], line 14\u001b[0m\n\u001b[1;32m     11\u001b[0m premise \u001b[38;5;241m=\u001b[39m example[\u001b[38;5;124m\"\u001b[39m\u001b[38;5;124mpremise\u001b[39m\u001b[38;5;124m\"\u001b[39m]\n\u001b[1;32m     12\u001b[0m hypothesis \u001b[38;5;241m=\u001b[39m example[\u001b[38;5;124m\"\u001b[39m\u001b[38;5;124mhypothesis\u001b[39m\u001b[38;5;124m\"\u001b[39m]\n\u001b[0;32m---> 14\u001b[0m translated_premise \u001b[38;5;241m=\u001b[39m \u001b[43mtranslate_to_english\u001b[49m(premise)\n\u001b[1;32m     15\u001b[0m translated_hypothesis \u001b[38;5;241m=\u001b[39m translate_to_english(hypothesis)\n\u001b[1;32m     17\u001b[0m translated_data[\u001b[38;5;124m\"\u001b[39m\u001b[38;5;124mpremise\u001b[39m\u001b[38;5;124m\"\u001b[39m]\u001b[38;5;241m.\u001b[39mappend(translated_premise)\n",
      "\u001b[0;31mNameError\u001b[0m: name 'translate_to_english' is not defined"
     ]
    }
   ],
   "source": [
    "# IF WE WANT TO TRANSLATE\n",
    "\n",
    "# Traduire les phrases de prémisse et d'hypothèse\n",
    "translated_data = {\n",
    "    \"premise\": [],\n",
    "    \"hypothesis\": [],\n",
    "    \"labels\": []\n",
    "}\n",
    "\n",
    "for example in train_data:\n",
    "    premise = example[\"premise\"]\n",
    "    hypothesis = example[\"hypothesis\"]\n",
    "\n",
    "    translated_premise = translate_to_english(premise)\n",
    "    translated_hypothesis = translate_to_english(hypothesis)\n",
    "\n",
    "    translated_data[\"premise\"].append(translated_premise)\n",
    "    translated_data[\"hypothesis\"].append(translated_hypothesis)\n",
    "    translated_data[\"labels\"].append(example[\"labels\"])\n",
    "\n",
    "# Créer un dataset de Hugging Face à partir des données traduites\n",
    "train_data = Dataset.from_dict(translated_data)"
   ]
  },
  {
   "cell_type": "code",
   "execution_count": 52,
   "id": "2b5fb654-4d6a-4acf-9416-ac330db138d7",
   "metadata": {},
   "outputs": [],
   "source": [
    "def tokenize_and_prepare_data(examples):\n",
    "    # Tokeniser chaque texte dans le batch\n",
    "    inputs = [f\"Is this true? {premise} implies {hypothesis}\" for premise, hypothesis in zip(examples['premise'], examples['hypothesis'])]\n",
    "    result = tokenizer(inputs,\n",
    "                       truncation=True,   \n",
    "                       max_length=1000,\n",
    "                       return_overflowing_tokens=True,\n",
    "                       add_special_tokens=True)\n",
    "    result[\"labels\"] = examples[\"labels\"]\n",
    "    sample_map = result.pop(\"overflow_to_sample_mapping\")\n",
    "    for key, values in examples.items():\n",
    "        result[key] = [values[i] for i in sample_map]\n",
    "    return result\n",
    "\n",
    "# Apply the tokenization and preparation function\n",
    "train_data = train_data.map(tokenize_and_prepare_data, batched=True)\n",
    "test_data = test_data.map(tokenize_and_prepare_data, batched=True)"
   ]
  },
  {
   "cell_type": "code",
   "execution_count": 53,
   "id": "e3836cb6-051a-4679-b2ac-c5336db354d7",
   "metadata": {},
   "outputs": [],
   "source": [
    "from peft import prepare_model_for_kbit_training\n",
    "\n",
    "torch.cuda.empty_cache()\n",
    "\n",
    "#model.gradient_checkpointing_enable()\n",
    "model = prepare_model_for_kbit_training(model)"
   ]
  },
  {
   "cell_type": "code",
   "execution_count": 54,
   "id": "fe83356f-d200-4242-a570-11ac6ee57266",
   "metadata": {},
   "outputs": [],
   "source": [
    "from peft import LoraConfig, get_peft_model, TaskType\n",
    "\n",
    "lora_config = LoraConfig(\n",
    "    r=32,\n",
    "    lora_alpha=32,\n",
    "    lora_dropout=0.05,\n",
    "    bias=\"none\",\n",
    "    task_type=TaskType.SEQ_CLS,\n",
    "    modules_to_save=['score']\n",
    ")"
   ]
  },
  {
   "cell_type": "code",
   "execution_count": 55,
   "id": "d3869e9a-9f6d-4830-a7ea-9457e69bb4ac",
   "metadata": {},
   "outputs": [],
   "source": [
    "import evaluate\n",
    "from sklearn.metrics import precision_score, recall_score, f1_score, accuracy_score\n",
    "import numpy as np\n",
    "\n",
    "def compute_metrics(eval_pred):\n",
    "    logits, labels = eval_pred\n",
    "\n",
    "    # Apply the Softmax function to get probabilities\n",
    "    probabilities = torch.nn.functional.softmax(torch.tensor(logits), dim=-1).numpy()\n",
    "\n",
    "    # Take the argmax of probabilities to get predictions\n",
    "    predictions = np.argmax(probabilities, axis=-1)\n",
    "\n",
    "    # Calculate metrics, assuming 'average' as 'weighted' for handling multiclass classification\n",
    "    precision = precision_score(labels, predictions, average='weighted')\n",
    "    recall = recall_score(labels, predictions, average='weighted')\n",
    "    f1 = f1_score(labels, predictions, average='weighted')\n",
    "    accuracy = accuracy_score(labels, predictions)\n",
    "\n",
    "    # Calculate accuracy for each class\n",
    "    class_accuracies = {}\n",
    "    for cls in range(3):\n",
    "        class_indices = (labels == cls)\n",
    "        if np.sum(class_indices) > 0:\n",
    "            class_accuracy = accuracy_score(labels[class_indices], predictions[class_indices])\n",
    "        else:\n",
    "            class_accuracy = float('nan')\n",
    "        class_accuracies[f\"accuracy_class_{cls}\"] = class_accuracy\n",
    "\n",
    "    # Return a dictionary with the computed metrics\n",
    "    metrics = {\n",
    "        \"precision\": precision,\n",
    "        \"recall\": recall,\n",
    "        \"f1-score\": f1,\n",
    "        \"accuracy\": accuracy\n",
    "    }\n",
    "\n",
    "    # Add class-wise accuracies to the metrics dictionary\n",
    "    metrics.update(class_accuracies)\n",
    "\n",
    "    return metrics"
   ]
  },
  {
   "cell_type": "code",
   "execution_count": 56,
   "id": "3ea295cd-3a9e-4af0-b8cf-5ca768c60604",
   "metadata": {},
   "outputs": [
    {
     "name": "stderr",
     "output_type": "stream",
     "text": [
      "huggingface/tokenizers: The current process just got forked, after parallelism has already been used. Disabling parallelism to avoid deadlocks...\n",
      "To disable this warning, you can either:\n",
      "\t- Avoid using `tokenizers` before the fork if possible\n",
      "\t- Explicitly set the environment variable TOKENIZERS_PARALLELISM=(true | false)\n",
      "huggingface/tokenizers: The current process just got forked, after parallelism has already been used. Disabling parallelism to avoid deadlocks...\n",
      "To disable this warning, you can either:\n",
      "\t- Avoid using `tokenizers` before the fork if possible\n",
      "\t- Explicitly set the environment variable TOKENIZERS_PARALLELISM=(true | false)\n",
      "Special tokens have been added in the vocabulary, make sure the associated word embeddings are fine-tuned or trained.\n"
     ]
    }
   ],
   "source": [
    "#new code using SFTTrainer\n",
    "import transformers\n",
    "import gc\n",
    "\n",
    "from trl import SFTTrainer\n",
    "\n",
    "torch.cuda.empty_cache()\n",
    "gc.collect()\n",
    "\n",
    "# Configuration des arguments de l'entraînement\n",
    "training_args = transformers.TrainingArguments(\n",
    "    per_device_train_batch_size=8,\n",
    "    per_device_eval_batch_size=8,\n",
    "    gradient_accumulation_steps=2,\n",
    "    warmup_ratio=0.08,\n",
    "    lr_scheduler_type= \"constant_with_warmup\",\n",
    "    weight_decay=0.01,\n",
    "    learning_rate=1e-4,\n",
    "    output_dir=\"outputs\",\n",
    "    optim=\"paged_adamw_8bit\",\n",
    "    save_strategy=\"no\",\n",
    "    fp16=False,\n",
    "    #evaluation_strategy=\"steps\",\n",
    "    num_train_epochs=5,\n",
    "    logging_steps=100,\n",
    ")\n",
    "\n",
    "trainer = SFTTrainer(\n",
    "    model=model,\n",
    "    train_dataset=train_data,\n",
    "    eval_dataset=test_data,\n",
    "    peft_config=lora_config,\n",
    "    args=training_args,\n",
    "    max_seq_length=1024,\n",
    "    data_collator=transformers.DataCollatorWithPadding(tokenizer),\n",
    "    formatting_func=tokenize_and_prepare_data,\n",
    "    compute_metrics=compute_metrics\n",
    ")"
   ]
  },
  {
   "cell_type": "code",
   "execution_count": 57,
   "id": "8d3b17d7-c790-42d4-9d45-b7b185976029",
   "metadata": {
    "scrolled": true
   },
   "outputs": [
    {
     "name": "stderr",
     "output_type": "stream",
     "text": [
      "/users/nfs/Etu4/21200044/stage/lib/python3.9/site-packages/torch/utils/checkpoint.py:464: UserWarning: torch.utils.checkpoint: the use_reentrant parameter should be passed explicitly. In version 2.4 we will raise an exception if use_reentrant is not passed. use_reentrant=False is recommended, but if you need to preserve the current default behavior, you can pass use_reentrant=True. Refer to docs for more details on the differences between the two variants.\n",
      "  warnings.warn(\n"
     ]
    },
    {
     "data": {
      "text/html": [
       "\n",
       "    <div>\n",
       "      \n",
       "      <progress value='960' max='960' style='width:300px; height:20px; vertical-align: middle;'></progress>\n",
       "      [960/960 1:40:32, Epoch 5/5]\n",
       "    </div>\n",
       "    <table border=\"1\" class=\"dataframe\">\n",
       "  <thead>\n",
       " <tr style=\"text-align: left;\">\n",
       "      <th>Step</th>\n",
       "      <th>Training Loss</th>\n",
       "    </tr>\n",
       "  </thead>\n",
       "  <tbody>\n",
       "    <tr>\n",
       "      <td>100</td>\n",
       "      <td>2.103400</td>\n",
       "    </tr>\n",
       "    <tr>\n",
       "      <td>200</td>\n",
       "      <td>0.810700</td>\n",
       "    </tr>\n",
       "    <tr>\n",
       "      <td>300</td>\n",
       "      <td>0.540000</td>\n",
       "    </tr>\n",
       "    <tr>\n",
       "      <td>400</td>\n",
       "      <td>0.433000</td>\n",
       "    </tr>\n",
       "    <tr>\n",
       "      <td>500</td>\n",
       "      <td>0.304600</td>\n",
       "    </tr>\n",
       "    <tr>\n",
       "      <td>600</td>\n",
       "      <td>0.250900</td>\n",
       "    </tr>\n",
       "    <tr>\n",
       "      <td>700</td>\n",
       "      <td>0.165900</td>\n",
       "    </tr>\n",
       "    <tr>\n",
       "      <td>800</td>\n",
       "      <td>0.202300</td>\n",
       "    </tr>\n",
       "    <tr>\n",
       "      <td>900</td>\n",
       "      <td>0.114900</td>\n",
       "    </tr>\n",
       "  </tbody>\n",
       "</table><p>"
      ],
      "text/plain": [
       "<IPython.core.display.HTML object>"
      ]
     },
     "metadata": {},
     "output_type": "display_data"
    },
    {
     "data": {
      "text/plain": [
       "TrainOutput(global_step=960, training_loss=0.5213503157099088, metrics={'train_runtime': 6041.5517, 'train_samples_per_second': 2.542, 'train_steps_per_second': 0.159, 'total_flos': 6.788101538512896e+16, 'train_loss': 0.5213503157099088, 'epoch': 5.0})"
      ]
     },
     "execution_count": 57,
     "metadata": {},
     "output_type": "execute_result"
    }
   ],
   "source": [
    "model.config.use_cache = False  # silence the warnings. Please re-enable for inference!\n",
    "trainer.train()"
   ]
  },
  {
   "cell_type": "markdown",
   "id": "7c0b8026-20ae-40d2-b0fb-ddcaf8390d26",
   "metadata": {},
   "source": [
    "## Inference"
   ]
  },
  {
   "cell_type": "code",
   "execution_count": 58,
   "id": "80d695af-c1d8-4f86-bddd-d416516946bb",
   "metadata": {},
   "outputs": [],
   "source": [
    "model.config.use_cache = True"
   ]
  },
  {
   "cell_type": "code",
   "execution_count": 59,
   "id": "046c2521-469f-4f2c-ba72-7c64448b3fd0",
   "metadata": {},
   "outputs": [],
   "source": [
    "# Step 1: Load ANLI test rounds\n",
    "anli_r1 = load_dataset(\"anli\", split=\"test_r1\")\n",
    "anli_r2 = load_dataset(\"anli\", split=\"test_r2\")\n",
    "anli_r3 = load_dataset(\"anli\", split=\"test_r3\")"
   ]
  },
  {
   "cell_type": "code",
   "execution_count": 60,
   "id": "383cea87-b82c-4588-8552-3cf7528b81cd",
   "metadata": {},
   "outputs": [],
   "source": [
    "# Function to process the ANLI dataset rounds\n",
    "def process_anli_data(dataset):\n",
    "    # Tokenize the data\n",
    "    dataset = dataset.rename_column(\"label\", \"labels\")\n",
    "    dataset = dataset.map(tokenize_and_prepare_data, batched=True, remove_columns=[col for col in dataset.column_names if col not in ['premise', 'hypothesis', 'labels']])\n",
    "    return dataset"
   ]
  },
  {
   "cell_type": "code",
   "execution_count": 61,
   "id": "82ce4fe7-e077-4e40-b534-9f075c39ab77",
   "metadata": {},
   "outputs": [
    {
     "data": {
      "application/vnd.jupyter.widget-view+json": {
       "model_id": "2837811866d84d8280201af55a1603a3",
       "version_major": 2,
       "version_minor": 0
      },
      "text/plain": [
       "Map:   0%|          | 0/1000 [00:00<?, ? examples/s]"
      ]
     },
     "metadata": {},
     "output_type": "display_data"
    }
   ],
   "source": [
    "# Step 2: Process the data\n",
    "anli_r1 = process_anli_data(anli_r1)\n",
    "anli_r2 = process_anli_data(anli_r2)\n",
    "anli_r3 = process_anli_data(anli_r3)"
   ]
  },
  {
   "cell_type": "code",
   "execution_count": 62,
   "id": "3e6b1a0f-15b8-414f-a584-17a180d34af1",
   "metadata": {},
   "outputs": [],
   "source": [
    "# Step 3: Define predict function with metrics\n",
    "def predict_and_evaluate(dataset):\n",
    "    with torch.inference_mode():\n",
    "        predictions = trainer.evaluate(dataset)\n",
    "    print(\"Precision:\", predictions['eval_precision'])\n",
    "    print(\"Recall:\", predictions['eval_recall'])\n",
    "    print(\"F1-score:\", predictions['eval_f1-score'])\n",
    "    print(\"Accuracy:\", predictions['eval_accuracy'])\n",
    "    print(\"Accuracy entailment:\", predictions['eval_accuracy_class_0'])\n",
    "    print(\"Accuracy neutral:\", predictions['eval_accuracy_class_1'])\n",
    "    print(\"Accuracy contradiction:\", predictions['eval_accuracy_class_2'])"
   ]
  },
  {
   "cell_type": "code",
   "execution_count": 63,
   "id": "912a04ce-b96d-4351-9ee1-a66ed955f984",
   "metadata": {},
   "outputs": [
    {
     "name": "stdout",
     "output_type": "stream",
     "text": [
      "Evaluating ANLI R1\n"
     ]
    },
    {
     "data": {
      "text/html": [
       "\n",
       "    <div>\n",
       "      \n",
       "      <progress value='1090' max='125' style='width:300px; height:20px; vertical-align: middle;'></progress>\n",
       "      [125/125 18:35]\n",
       "    </div>\n",
       "    "
      ],
      "text/plain": [
       "<IPython.core.display.HTML object>"
      ]
     },
     "metadata": {},
     "output_type": "display_data"
    },
    {
     "name": "stdout",
     "output_type": "stream",
     "text": [
      "Precision: 0.6349865659483211\n",
      "Recall: 0.623\n",
      "F1-score: 0.6172665298566073\n",
      "Accuracy: 0.623\n",
      "Accuracy entailment: 0.6616766467065869\n",
      "Accuracy neutral: 0.45645645645645644\n",
      "Accuracy contradiction: 0.7507507507507507\n",
      "Evaluating ANLI R2\n",
      "Precision: 0.5146624039542324\n",
      "Recall: 0.505\n",
      "F1-score: 0.496012104240878\n",
      "Accuracy: 0.505\n",
      "Accuracy entailment: 0.5299401197604791\n",
      "Accuracy neutral: 0.32732732732732733\n",
      "Accuracy contradiction: 0.6576576576576577\n",
      "Evaluating ANLI R3\n",
      "Precision: 0.4766586999370505\n",
      "Recall: 0.47583333333333333\n",
      "F1-score: 0.47615858979722475\n",
      "Accuracy: 0.47583333333333333\n",
      "Accuracy entailment: 0.5174129353233831\n",
      "Accuracy neutral: 0.417910447761194\n",
      "Accuracy contradiction: 0.49242424242424243\n"
     ]
    }
   ],
   "source": [
    "torch.cuda.empty_cache()\n",
    "\n",
    "# Step 4: Run predictions and compute metrics for each ANLI round\n",
    "print(\"Evaluating ANLI R1\")\n",
    "predict_and_evaluate(anli_r1)\n",
    "\n",
    "print(\"Evaluating ANLI R2\")\n",
    "predict_and_evaluate(anli_r2)\n",
    "\n",
    "print(\"Evaluating ANLI R3\")\n",
    "predict_and_evaluate(anli_r3)"
   ]
  },
  {
   "cell_type": "code",
   "execution_count": 64,
   "id": "1271fa06-c8ae-4424-97fb-7ed10329361c",
   "metadata": {},
   "outputs": [
    {
     "name": "stdout",
     "output_type": "stream",
     "text": [
      "Evaluating VitaminC\n",
      "Precision: 0.7499514761462612\n",
      "Recall: 0.7425724637681159\n",
      "F1-score: 0.7434276393294816\n",
      "Accuracy: 0.7425724637681159\n",
      "Accuracy entailment: 0.749907646841522\n",
      "Accuracy neutral: 0.5273224043715847\n",
      "Accuracy contradiction: 0.8087457952907257\n"
     ]
    }
   ],
   "source": [
    "test_vitaminc = load_dataset(\"Gameselo/monolingual-wideNLI\", split=\"test_vitaminc\")\n",
    "test_vitaminc = process_anli_data(test_vitaminc)\n",
    "\n",
    "# Step 3: Define predict function with metrics\n",
    "torch.cuda.empty_cache()\n",
    "\n",
    "# Step 4: Run predictions and compute metrics for each ANLI round\n",
    "print(\"Evaluating VitaminC\")\n",
    "predict_and_evaluate(test_vitaminc)"
   ]
  },
  {
   "cell_type": "code",
   "execution_count": null,
   "id": "87e5fb14-01bb-4a24-a915-cab16c5f8cf7",
   "metadata": {},
   "outputs": [],
   "source": [
    "trainer.save_model('./best_model_llama')"
   ]
  }
 ],
 "metadata": {
  "kernelspec": {
   "display_name": "Python 3 (ipykernel)",
   "language": "python",
   "name": "python3"
  },
  "language_info": {
   "codemirror_mode": {
    "name": "ipython",
    "version": 3
   },
   "file_extension": ".py",
   "mimetype": "text/x-python",
   "name": "python",
   "nbconvert_exporter": "python",
   "pygments_lexer": "ipython3",
   "version": "3.9.7"
  }
 },
 "nbformat": 4,
 "nbformat_minor": 5
}
