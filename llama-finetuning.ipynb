{
 "cells": [
  {
   "cell_type": "code",
   "execution_count": 1,
   "id": "6ae96018-2e35-482c-b45b-34c86e6c959f",
   "metadata": {},
   "outputs": [],
   "source": [
    "import torch\n",
    "from transformers import AutoTokenizer, AutoModelForSequenceClassification, BitsAndBytesConfig, MT5ForConditionalGeneration, MT5Tokenizer\n",
    "import psutil\n",
    "from transformers import TrainerCallback\n",
    "import time\n",
    "\n",
    "bnb_config = BitsAndBytesConfig(\n",
    "    load_in_4bit=True,\n",
    "    bnb_4bit_use_double_quant=True,\n",
    "    bnb_4bit_quant_type=\"nf4\",\n",
    "    bnb_4bit_compute_dtype=torch.bfloat16\n",
    ")"
   ]
  },
  {
   "cell_type": "code",
   "execution_count": 2,
   "id": "e3167e78-dd6b-4af6-8da5-3727810d0e8f",
   "metadata": {},
   "outputs": [
    {
     "data": {
      "application/vnd.jupyter.widget-view+json": {
       "model_id": "52927326017844ce8da1dff5e8ba1be6",
       "version_major": 2,
       "version_minor": 0
      },
      "text/plain": [
       "VBox(children=(HTML(value='<center> <img\\nsrc=https://huggingface.co/front/assets/huggingface_logo-noborder.sv…"
      ]
     },
     "metadata": {},
     "output_type": "display_data"
    }
   ],
   "source": [
    "from huggingface_hub import notebook_login\n",
    "notebook_login()"
   ]
  },
  {
   "cell_type": "code",
   "execution_count": 3,
   "id": "2e904de8-36d2-47c0-a2c3-b66b57722c37",
   "metadata": {},
   "outputs": [
    {
     "data": {
      "application/vnd.jupyter.widget-view+json": {
       "model_id": "dc1c42e1b8fb43f2bf5f18db0eae23ff",
       "version_major": 2,
       "version_minor": 0
      },
      "text/plain": [
       "Loading checkpoint shards:   0%|          | 0/4 [00:00<?, ?it/s]"
      ]
     },
     "metadata": {},
     "output_type": "display_data"
    },
    {
     "name": "stderr",
     "output_type": "stream",
     "text": [
      "Some weights of LlamaForSequenceClassification were not initialized from the model checkpoint at lightblue/suzume-llama-3-8B-multilingual and are newly initialized: ['score.weight']\n",
      "You should probably TRAIN this model on a down-stream task to be able to use it for predictions and inference.\n",
      "Special tokens have been added in the vocabulary, make sure the associated word embeddings are fine-tuned or trained.\n"
     ]
    }
   ],
   "source": [
    "model_id = \"lightblue/suzume-llama-3-8B-multilingual\"\n",
    "#model_id = \"meta-llama/Meta-Llama-3-8B\"\n",
    "\n",
    "model = AutoModelForSequenceClassification.from_pretrained(model_id,\n",
    "                                                           quantization_config=bnb_config,\n",
    "                                                           num_labels=3,\n",
    "                                                           device_map={'':torch.cuda.current_device()},\n",
    "                                                           #device_map=\"auto\"\n",
    "                                                          )\n",
    "tokenizer = AutoTokenizer.from_pretrained(model_id, add_eos_token=True)"
   ]
  },
  {
   "cell_type": "code",
   "execution_count": 4,
   "id": "da3f7a07-ac22-4788-b112-3469b02dedf1",
   "metadata": {},
   "outputs": [],
   "source": [
    "from datasets import load_dataset, Dataset\n",
    "\n",
    "# data = load_dataset(\"ankitkupadhyay/XNLI\")[\"train\"]\n",
    "data = load_dataset(\"Gameselo/monolingual-wideNLI\")\n",
    "\n",
    "data = data.shuffle(seed=1234)  # Shuffle dataset here\n",
    "data = data.rename_column(\"label\", \"labels\")"
   ]
  },
  {
   "cell_type": "code",
   "execution_count": 6,
   "id": "2f971b3a-8df7-49c9-8388-608fb0a2b252",
   "metadata": {},
   "outputs": [
    {
     "name": "stderr",
     "output_type": "stream",
     "text": [
      "You are using the default legacy behaviour of the <class 'transformers.models.t5.tokenization_t5.T5Tokenizer'>. This is expected, and simply means that the `legacy` (previous) behavior will be used so nothing changes for you. If you want to use the new behaviour, set `legacy=False`. This should only be set if you understand what it means, and thoroughly read the reason why this was added as explained in https://github.com/huggingface/transformers/pull/24565\n"
     ]
    }
   ],
   "source": [
    "# TRADUCTION SI XNLI\n",
    "\n",
    "# Charger le modèle MT5 et le tokenizer\n",
    "model_name = \"google/mt5-base\"\n",
    "tokenizer_trad = MT5Tokenizer.from_pretrained(model_name)\n",
    "model_trad = MT5ForConditionalGeneration.from_pretrained(model_name)\n",
    "\n",
    "# Fonction pour traduire une phrase en anglais\n",
    "def translate_to_english(sentence):\n",
    "    # Préparer l'entrée pour le modèle\n",
    "    input_text = f\"translate to English: {sentence}\"\n",
    "    inputs = tokenizer_trad.encode(input_text, return_tensors=\"pt\")\n",
    "\n",
    "    # Générer la traduction\n",
    "    with torch.inference_mode():\n",
    "        outputs = model_trad.generate(inputs)\n",
    "        \n",
    "    translated_sentence = tokenizer_trad.decode(outputs[0], skip_special_tokens=True)\n",
    "    \n",
    "    return translated_sentence"
   ]
  },
  {
   "cell_type": "code",
   "execution_count": 7,
   "id": "96d8928c-ba92-432b-b178-d6fb948f32b0",
   "metadata": {},
   "outputs": [],
   "source": [
    "# IF USING XNLI\n",
    "\n",
    "data = data.train_test_split(test_size=0.1)\n",
    "train_data = data[\"train\"]\n",
    "test_data = data[\"test\"]"
   ]
  },
  {
   "cell_type": "code",
   "execution_count": 5,
   "id": "755b60b2-44d5-4493-b1f9-f32a6c51d692",
   "metadata": {},
   "outputs": [],
   "source": [
    "# IF USING MONOLINGUAL-WIDENLI\n",
    "\n",
    "train_data = data[\"train\"]\n",
    "test_data = data[\"dev\"]"
   ]
  },
  {
   "cell_type": "code",
   "execution_count": 6,
   "id": "5a92dc2a-d1fd-41ee-9234-a2a3c6b820dd",
   "metadata": {},
   "outputs": [],
   "source": [
    "# Fonction pour sampler 8 exemples par classe\n",
    "def sample_per_class(dataset, num_samples=16):\n",
    "    # Obtenir un index unique pour chaque classe\n",
    "    class_indices = {label: [] for label in set(dataset['labels'])}\n",
    "\n",
    "    # Accumuler les indices pour chaque classe\n",
    "    for index, label in enumerate(dataset['labels']):\n",
    "        class_indices[label].append(index)\n",
    "\n",
    "    # Sélectionner aléatoirement num_samples indices pour chaque classe\n",
    "    import random\n",
    "    sampled_indices = [index for label, indices in class_indices.items()\n",
    "                       for index in random.sample(indices, num_samples)]\n",
    "\n",
    "    # Créer un nouveau dataset à partir des indices échantillonnés\n",
    "    sampled_dataset = dataset.select(sampled_indices)\n",
    "    return sampled_dataset\n",
    "\n",
    "# Appliquer la fonction\n",
    "train_data = sample_per_class(train_data)"
   ]
  },
  {
   "cell_type": "code",
   "execution_count": 9,
   "id": "33c1aa0a-6c01-4198-a07e-80234baf613f",
   "metadata": {},
   "outputs": [
    {
     "name": "stderr",
     "output_type": "stream",
     "text": [
      "/users/nfs/Etu4/21200044/stage/lib/python3.9/site-packages/transformers/generation/utils.py:1141: UserWarning: Using the model-agnostic default `max_length` (=20) to control the generation length. We recommend setting `max_new_tokens` to control the maximum length of the generation.\n",
      "  warnings.warn(\n"
     ]
    }
   ],
   "source": [
    "# IF WE WANT TO TRANSLATE\n",
    "\n",
    "# Traduire les phrases de prémisse et d'hypothèse\n",
    "translated_data = {\n",
    "    \"premise\": [],\n",
    "    \"hypothesis\": [],\n",
    "    \"labels\": []\n",
    "}\n",
    "\n",
    "for example in train_data:\n",
    "    premise = example[\"premise\"]\n",
    "    hypothesis = example[\"hypothesis\"]\n",
    "\n",
    "    translated_premise = translate_to_english(premise)\n",
    "    translated_hypothesis = translate_to_english(hypothesis)\n",
    "\n",
    "    translated_data[\"premise\"].append(translated_premise)\n",
    "    translated_data[\"hypothesis\"].append(translated_hypothesis)\n",
    "    translated_data[\"labels\"].append(example[\"labels\"])\n",
    "\n",
    "# Créer un dataset de Hugging Face à partir des données traduites\n",
    "train_data = Dataset.from_dict(translated_data)"
   ]
  },
  {
   "cell_type": "code",
   "execution_count": 7,
   "id": "2b5fb654-4d6a-4acf-9416-ac330db138d7",
   "metadata": {},
   "outputs": [
    {
     "data": {
      "application/vnd.jupyter.widget-view+json": {
       "model_id": "9cb2a908067142b7bf88ce9c4cf66c77",
       "version_major": 2,
       "version_minor": 0
      },
      "text/plain": [
       "Map:   0%|          | 0/48 [00:00<?, ? examples/s]"
      ]
     },
     "metadata": {},
     "output_type": "display_data"
    }
   ],
   "source": [
    "def tokenize_and_prepare_data(examples):\n",
    "    # Tokeniser chaque texte dans le batch\n",
    "    text = f\"Is this true? {examples['premise']} implies {examples['hypothesis']}\"\n",
    "    result = tokenizer(text,truncation=True,   \n",
    "                       max_length=1000,\n",
    "                       return_overflowing_tokens=True)\n",
    "    sample_map = result.pop(\"overflow_to_sample_mapping\")\n",
    "    for key, values in examples.items():\n",
    "        result[key] = [values[i] for i in sample_map]\n",
    "    return result\n",
    "\n",
    "model.config.pad_token_id = model.config.eos_token_id\n",
    "\n",
    "tokenizer.pad_token = tokenizer.eos_token\n",
    "tokenizer.pad_token_id = tokenizer.eos_token_id\n",
    "\n",
    "# Apply the tokenization and preparation function\n",
    "train_data = train_data.map(tokenize_and_prepare_data, batched=True)\n",
    "test_data = test_data.map(tokenize_and_prepare_data, batched=True)"
   ]
  },
  {
   "cell_type": "code",
   "execution_count": 8,
   "id": "e3836cb6-051a-4679-b2ac-c5336db354d7",
   "metadata": {},
   "outputs": [],
   "source": [
    "from peft import prepare_model_for_kbit_training\n",
    "\n",
    "torch.cuda.empty_cache()\n",
    "\n",
    "model.gradient_checkpointing_enable()\n",
    "model = prepare_model_for_kbit_training(model)"
   ]
  },
  {
   "cell_type": "code",
   "execution_count": 9,
   "id": "df7734a0-80fd-496f-bcb1-b1a9c09077fd",
   "metadata": {},
   "outputs": [],
   "source": [
    "def print_trainable_parameters(model):\n",
    "    \"\"\"\n",
    "    Prints the number of trainable parameters in the model.\n",
    "    \"\"\"\n",
    "    trainable_params = 0\n",
    "    all_param = 0\n",
    "    for _, param in model.named_parameters():\n",
    "        all_param += param.numel()\n",
    "        if param.requires_grad:\n",
    "            trainable_params += param.numel()\n",
    "    print(\n",
    "        f\"trainable params: {trainable_params} || all params: {all_param} || trainable%: {100 * trainable_params / all_param}\"\n",
    "    )"
   ]
  },
  {
   "cell_type": "code",
   "execution_count": 10,
   "id": "fe83356f-d200-4242-a570-11ac6ee57266",
   "metadata": {},
   "outputs": [
    {
     "name": "stdout",
     "output_type": "stream",
     "text": [
      "trainable params: 436219904 || all params: 4451495936 || trainable%: 9.799400252670477\n"
     ]
    }
   ],
   "source": [
    "from peft import LoraConfig, get_peft_model, TaskType\n",
    "\n",
    "lora_config = LoraConfig(\n",
    "    r=1024,\n",
    "    lora_alpha=4096,\n",
    "    lora_dropout=0.2,\n",
    "    bias=\"none\",\n",
    "    task_type=TaskType.SEQ_CLS,\n",
    ")\n",
    "\n",
    "peft_model = get_peft_model(model, lora_config)\n",
    "print_trainable_parameters(peft_model)"
   ]
  },
  {
   "cell_type": "code",
   "execution_count": 11,
   "id": "d3869e9a-9f6d-4830-a7ea-9457e69bb4ac",
   "metadata": {},
   "outputs": [],
   "source": [
    "import evaluate\n",
    "from sklearn.metrics import precision_score, recall_score, f1_score, accuracy_score\n",
    "import numpy as np\n",
    "\n",
    "def compute_metrics(eval_pred):\n",
    "    logits, labels = eval_pred  # eval_pred is the tuple of predictions and labels returned by the model\n",
    "    predictions = np.argmax(logits, axis=-1)\n",
    "    \n",
    "    # Calculate metrics, assuming 'average' as 'weighted' for handling multiclass classification\n",
    "    precision = precision_score(labels, predictions, average='weighted')\n",
    "    recall = recall_score(labels, predictions, average='weighted')\n",
    "    f1 = f1_score(labels, predictions, average='weighted')\n",
    "    accuracy = accuracy_score(labels, predictions)\n",
    "    \n",
    "    # Return a dictionary with the computed metrics\n",
    "    return {\n",
    "        \"precision\": precision, \n",
    "        \"recall\": recall, \n",
    "        \"f1-score\": f1, \n",
    "        \"accuracy\": accuracy\n",
    "    }"
   ]
  },
  {
   "cell_type": "code",
   "execution_count": 12,
   "id": "87b890a8-a275-42a6-92c1-198c695aec53",
   "metadata": {},
   "outputs": [],
   "source": [
    "class PerformanceCallback(TrainerCallback):\n",
    "    def on_evaluate(self, args, state, control, **kwargs):\n",
    "        self.start_time = time.time()\n",
    "        self.start_memory = psutil.Process().memory_info().rss  # Mémoire en octets\n",
    "\n",
    "    def on_evaluate_end(self, args, state, control, **kwargs):\n",
    "        elapsed_time = time.time() - self.start_time\n",
    "        end_memory = psutil.Process().memory_info().rss\n",
    "        memory_used = end_memory - self.start_memory\n",
    "        print(f\"Inference time: {elapsed_time:.2f} seconds\")\n",
    "        print(f\"Memory used: {memory_used / (1024 ** 2):.2f} Mo\")  # Convertir en Mo"
   ]
  },
  {
   "cell_type": "code",
   "execution_count": 13,
   "id": "3ea295cd-3a9e-4af0-b8cf-5ca768c60604",
   "metadata": {},
   "outputs": [
    {
     "name": "stderr",
     "output_type": "stream",
     "text": [
      "huggingface/tokenizers: The current process just got forked, after parallelism has already been used. Disabling parallelism to avoid deadlocks...\n",
      "To disable this warning, you can either:\n",
      "\t- Avoid using `tokenizers` before the fork if possible\n",
      "\t- Explicitly set the environment variable TOKENIZERS_PARALLELISM=(true | false)\n",
      "huggingface/tokenizers: The current process just got forked, after parallelism has already been used. Disabling parallelism to avoid deadlocks...\n",
      "To disable this warning, you can either:\n",
      "\t- Avoid using `tokenizers` before the fork if possible\n",
      "\t- Explicitly set the environment variable TOKENIZERS_PARALLELISM=(true | false)\n",
      "Special tokens have been added in the vocabulary, make sure the associated word embeddings are fine-tuned or trained.\n"
     ]
    }
   ],
   "source": [
    "#new code using SFTTrainer\n",
    "import transformers\n",
    "\n",
    "from trl import SFTTrainer\n",
    "\n",
    "torch.cuda.empty_cache()\n",
    "\n",
    "# Configuration des arguments de l'entraînement\n",
    "training_args = transformers.TrainingArguments(\n",
    "    per_device_train_batch_size=1,\n",
    "    per_device_eval_batch_size=1,\n",
    "    gradient_accumulation_steps=8,\n",
    "    warmup_ratio=0.08,\n",
    "    learning_rate=1e-4,\n",
    "    output_dir=\"outputs\",\n",
    "    optim=\"paged_adamw_8bit\",\n",
    "    save_strategy=\"no\",\n",
    "    # evaluation_strategy=\"epoch\",\n",
    ")\n",
    "\n",
    "trainer = SFTTrainer(\n",
    "    model=model,\n",
    "    train_dataset=train_data,\n",
    "    eval_dataset=test_data,\n",
    "    peft_config=lora_config,\n",
    "    args=training_args,\n",
    "    max_seq_length=1024,\n",
    "    data_collator=transformers.DataCollatorWithPadding(tokenizer),\n",
    "    formatting_func=tokenize_and_prepare_data,\n",
    "    compute_metrics=compute_metrics,\n",
    "    callbacks=[PerformanceCallback()]\n",
    ")"
   ]
  },
  {
   "cell_type": "code",
   "execution_count": 14,
   "id": "8d3b17d7-c790-42d4-9d45-b7b185976029",
   "metadata": {},
   "outputs": [
    {
     "name": "stderr",
     "output_type": "stream",
     "text": [
      "/users/nfs/Etu4/21200044/stage/lib/python3.9/site-packages/torch/utils/checkpoint.py:464: UserWarning: torch.utils.checkpoint: the use_reentrant parameter should be passed explicitly. In version 2.4 we will raise an exception if use_reentrant is not passed. use_reentrant=False is recommended, but if you need to preserve the current default behavior, you can pass use_reentrant=True. Refer to docs for more details on the differences between the two variants.\n",
      "  warnings.warn(\n",
      "/users/nfs/Etu4/21200044/stage/lib/python3.9/site-packages/torch/nn/parallel/_functions.py:68: UserWarning: Was asked to gather along dimension 0, but all input tensors were scalars; will instead unsqueeze and return a vector.\n",
      "  warnings.warn('Was asked to gather along dimension 0, but all '\n"
     ]
    },
    {
     "data": {
      "text/html": [
       "\n",
       "    <div>\n",
       "      \n",
       "      <progress value='3' max='3' style='width:300px; height:20px; vertical-align: middle;'></progress>\n",
       "      [3/3 00:25, Epoch 3/3]\n",
       "    </div>\n",
       "    <table border=\"1\" class=\"dataframe\">\n",
       "  <thead>\n",
       " <tr style=\"text-align: left;\">\n",
       "      <th>Step</th>\n",
       "      <th>Training Loss</th>\n",
       "    </tr>\n",
       "  </thead>\n",
       "  <tbody>\n",
       "  </tbody>\n",
       "</table><p>"
      ],
      "text/plain": [
       "<IPython.core.display.HTML object>"
      ]
     },
     "metadata": {},
     "output_type": "display_data"
    }
   ],
   "source": [
    "model.config.use_cache = False  # silence the warnings. Please re-enable for inference!\n",
    "trainer.train()\n",
    "trainer.save_model('./best_model_llama')"
   ]
  },
  {
   "cell_type": "markdown",
   "id": "7c0b8026-20ae-40d2-b0fb-ddcaf8390d26",
   "metadata": {},
   "source": [
    "## Inference"
   ]
  },
  {
   "cell_type": "code",
   "execution_count": null,
   "id": "80d695af-c1d8-4f86-bddd-d416516946bb",
   "metadata": {},
   "outputs": [],
   "source": [
    "model.config.use_cache = True"
   ]
  },
  {
   "cell_type": "code",
   "execution_count": 59,
   "id": "046c2521-469f-4f2c-ba72-7c64448b3fd0",
   "metadata": {},
   "outputs": [],
   "source": [
    "# Step 1: Load ANLI test rounds\n",
    "anli_r1 = load_dataset(\"anli\", split=\"test_r1\")\n",
    "anli_r2 = load_dataset(\"anli\", split=\"test_r2\")\n",
    "anli_r3 = load_dataset(\"anli\", split=\"test_r3\")"
   ]
  },
  {
   "cell_type": "code",
   "execution_count": 60,
   "id": "383cea87-b82c-4588-8552-3cf7528b81cd",
   "metadata": {},
   "outputs": [],
   "source": [
    "# Function to process the ANLI dataset rounds\n",
    "def process_anli_data(dataset):\n",
    "    # Tokenize the data\n",
    "    dataset = dataset.rename_column(\"label\", \"labels\")\n",
    "    dataset = dataset.map(tokenize_and_prepare_data, batched=True, remove_columns=[col for col in dataset.column_names if col not in ['premise', 'hypothesis', 'labels']])\n",
    "    return dataset"
   ]
  },
  {
   "cell_type": "code",
   "execution_count": 61,
   "id": "82ce4fe7-e077-4e40-b534-9f075c39ab77",
   "metadata": {},
   "outputs": [],
   "source": [
    "# Step 2: Process the data\n",
    "anli_r1 = process_anli_data(anli_r1)\n",
    "anli_r2 = process_anli_data(anli_r2)\n",
    "anli_r3 = process_anli_data(anli_r3)"
   ]
  },
  {
   "cell_type": "code",
   "execution_count": 62,
   "id": "3e6b1a0f-15b8-414f-a584-17a180d34af1",
   "metadata": {},
   "outputs": [],
   "source": [
    "# Step 3: Define predict function with metrics\n",
    "def predict_and_evaluate(dataset):\n",
    "    with torch.inference_mode():\n",
    "        predictions = trainer.evaluate(dataset)\n",
    "    print(\"Precision:\", predictions['eval_precision'])\n",
    "    print(\"Recall:\", predictions['eval_recall'])\n",
    "    print(\"F1-score:\", predictions['eval_f1-score'])\n",
    "    print(\"Accuracy:\", predictions['eval_accuracy'])"
   ]
  },
  {
   "cell_type": "code",
   "execution_count": 63,
   "id": "912a04ce-b96d-4351-9ee1-a66ed955f984",
   "metadata": {},
   "outputs": [
    {
     "name": "stdout",
     "output_type": "stream",
     "text": [
      "Evaluating ANLI R1\n"
     ]
    },
    {
     "data": {
      "text/html": [
       "\n",
       "    <div>\n",
       "      \n",
       "      <progress value='152' max='24' style='width:300px; height:20px; vertical-align: middle;'></progress>\n",
       "      [24/24 14:37]\n",
       "    </div>\n",
       "    "
      ],
      "text/plain": [
       "<IPython.core.display.HTML object>"
      ]
     },
     "metadata": {},
     "output_type": "display_data"
    },
    {
     "name": "stdout",
     "output_type": "stream",
     "text": [
      "Precision: 1.0\n",
      "Recall: 1.0\n",
      "F1-score: 1.0\n",
      "Accuracy: 1.0\n",
      "Evaluating ANLI R2\n"
     ]
    },
    {
     "name": "stderr",
     "output_type": "stream",
     "text": [
      "/users/nfs/Etu4/21200044/stage/lib/python3.9/site-packages/torch/nn/parallel/_functions.py:68: UserWarning: Was asked to gather along dimension 0, but all input tensors were scalars; will instead unsqueeze and return a vector.\n",
      "  warnings.warn('Was asked to gather along dimension 0, but all '\n"
     ]
    },
    {
     "name": "stdout",
     "output_type": "stream",
     "text": [
      "Precision: 1.0\n",
      "Recall: 1.0\n",
      "F1-score: 1.0\n",
      "Accuracy: 1.0\n",
      "Evaluating ANLI R3\n"
     ]
    },
    {
     "name": "stderr",
     "output_type": "stream",
     "text": [
      "/users/nfs/Etu4/21200044/stage/lib/python3.9/site-packages/torch/nn/parallel/_functions.py:68: UserWarning: Was asked to gather along dimension 0, but all input tensors were scalars; will instead unsqueeze and return a vector.\n",
      "  warnings.warn('Was asked to gather along dimension 0, but all '\n"
     ]
    },
    {
     "name": "stdout",
     "output_type": "stream",
     "text": [
      "Precision: 1.0\n",
      "Recall: 1.0\n",
      "F1-score: 1.0\n",
      "Accuracy: 1.0\n"
     ]
    }
   ],
   "source": [
    "torch.cuda.empty_cache()\n",
    "\n",
    "# Step 4: Run predictions and compute metrics for each ANLI round\n",
    "print(\"Evaluating ANLI R1\")\n",
    "predict_and_evaluate(anli_r1)\n",
    "\n",
    "print(\"Evaluating ANLI R2\")\n",
    "predict_and_evaluate(anli_r2)\n",
    "\n",
    "print(\"Evaluating ANLI R3\")\n",
    "predict_and_evaluate(anli_r3)"
   ]
  },
  {
   "cell_type": "code",
   "execution_count": 64,
   "id": "1271fa06-c8ae-4424-97fb-7ed10329361c",
   "metadata": {},
   "outputs": [
    {
     "name": "stdout",
     "output_type": "stream",
     "text": [
      "Evaluating VitaminC\n"
     ]
    },
    {
     "name": "stderr",
     "output_type": "stream",
     "text": [
      "/users/nfs/Etu4/21200044/stage/lib/python3.9/site-packages/torch/nn/parallel/_functions.py:68: UserWarning: Was asked to gather along dimension 0, but all input tensors were scalars; will instead unsqueeze and return a vector.\n",
      "  warnings.warn('Was asked to gather along dimension 0, but all '\n"
     ]
    },
    {
     "name": "stdout",
     "output_type": "stream",
     "text": [
      "Precision: 0.29020811654526535\n",
      "Recall: 0.5387096774193548\n",
      "F1-score: 0.37720971123283964\n",
      "Accuracy: 0.5387096774193548\n"
     ]
    },
    {
     "name": "stderr",
     "output_type": "stream",
     "text": [
      "/users/nfs/Etu4/21200044/stage/lib/python3.9/site-packages/sklearn/metrics/_classification.py:1509: UndefinedMetricWarning: Precision is ill-defined and being set to 0.0 in labels with no predicted samples. Use `zero_division` parameter to control this behavior.\n",
      "  _warn_prf(average, modifier, f\"{metric.capitalize()} is\", len(result))\n"
     ]
    }
   ],
   "source": [
    "test_vitaminc = load_dataset(\"Gameselo/monolingual-wideNLI\", split=\"test_vitaminc\")\n",
    "test_vitaminc = process_anli_data(test_vitaminc)\n",
    "\n",
    "# Step 3: Define predict function with metrics\n",
    "torch.cuda.empty_cache()\n",
    "\n",
    "# Step 4: Run predictions and compute metrics for each ANLI round\n",
    "print(\"Evaluating VitaminC\")\n",
    "predict_and_evaluate(test_vitaminc)"
   ]
  },
  {
   "cell_type": "code",
   "execution_count": null,
   "id": "87e5fb14-01bb-4a24-a915-cab16c5f8cf7",
   "metadata": {},
   "outputs": [],
   "source": []
  }
 ],
 "metadata": {
  "kernelspec": {
   "display_name": "Python 3 (ipykernel)",
   "language": "python",
   "name": "python3"
  },
  "language_info": {
   "codemirror_mode": {
    "name": "ipython",
    "version": 3
   },
   "file_extension": ".py",
   "mimetype": "text/x-python",
   "name": "python",
   "nbconvert_exporter": "python",
   "pygments_lexer": "ipython3",
   "version": "3.9.7"
  }
 },
 "nbformat": 4,
 "nbformat_minor": 5
}
